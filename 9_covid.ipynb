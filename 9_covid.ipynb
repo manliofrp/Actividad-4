{
 "cells": [
  {
   "cell_type": "code",
   "execution_count": 7,
   "metadata": {},
   "outputs": [],
   "source": [
    "import pandas as pd\n",
    "import numpy as np\n",
    "import matplotlib.pyplot as plt\n",
    "import cufflinks as cf\n",
    "from IPython.display import display,HTML"
   ]
  },
  {
   "cell_type": "code",
   "execution_count": null,
   "metadata": {},
   "outputs": [],
   "source": [
    "#Leo mi archivo.csv\n",
    "Covid = pd.read_csv(\"COVID19Mexico.csv\")\n",
    "#Filtro por filas\n",
    "Covid= Covid.iloc[0:100000,: ]\n",
    "Covid\n"
   ]
  },
  {
   "cell_type": "code",
   "execution_count": 13,
   "metadata": {},
   "outputs": [
    {
     "data": {
      "text/plain": [
       "ID                       0\n",
       "FECHA_ACTUALIZACION      0\n",
       "ID_REGISTRO              0\n",
       "ORIGEN                   0\n",
       "SECTOR                   1\n",
       "ENTIDAD_UM               1\n",
       "SEXO                     1\n",
       "ENTIDAD_NAC              0\n",
       "ENTIDAD_RES              0\n",
       "MUNICIPIO_RES            1\n",
       "TIPO_PACIENTE            0\n",
       "FECHA_INGRESO            0\n",
       "FECHA_SINTOMAS           0\n",
       "FECHA_DEF                0\n",
       "INTUBADO                 0\n",
       "NEUMONIA                 0\n",
       "EDAD                     3\n",
       "NACIONALIDAD             0\n",
       "EMBARAZO                 2\n",
       "HABLA_LENGUA_INDIG       0\n",
       "INDIGENA                 0\n",
       "DIABETES                 0\n",
       "EPOC                     0\n",
       "ASMA                     0\n",
       "INMUSUPR                 0\n",
       "HIPERTENSION             1\n",
       "OTRA_COM                 0\n",
       "CARDIOVASCULAR           0\n",
       "OBESIDAD                 0\n",
       "RENAL_CRONICA            0\n",
       "TABAQUISMO               1\n",
       "OTRO_CASO                1\n",
       "TOMA_MUESTRA_LAB         0\n",
       "RESULTADO_LAB            0\n",
       "TOMA_MUESTRA_ANTIGENO    0\n",
       "RESULTADO_ANTIGENO       1\n",
       "CLASIFICACION_FINAL      0\n",
       "MIGRANTE                 0\n",
       "PAIS_NACIONALIDAD        2\n",
       "PAIS_ORIGEN              0\n",
       "UCI                      0\n",
       "dtype: int64"
      ]
     },
     "execution_count": 13,
     "metadata": {},
     "output_type": "execute_result"
    }
   ],
   "source": [
    "valores_nulos=Covid.isnull().sum()\n",
    "valores_nulos"
   ]
  },
  {
   "cell_type": "code",
   "execution_count": 11,
   "metadata": {},
   "outputs": [],
   "source": [
    "#Realizamos una copia del dataframe\n",
    "covid1=Covid.copy()"
   ]
  },
  {
   "cell_type": "code",
   "execution_count": null,
   "metadata": {},
   "outputs": [],
   "source": [
    "#Sustituir valores nulos con promedio o media\n",
    "covid1[\"SECTOR\"]=covid1[\"SECTOR\"].fillna(round(covid1[\"SECTOR\"].mean(),1))\n",
    "covid1"
   ]
  },
  {
   "cell_type": "code",
   "execution_count": null,
   "metadata": {},
   "outputs": [],
   "source": [
    "#Sustituir valores nulos con promedio o media\n",
    "covid1[\"NACIONALIDAD\"]=covid1[\"NACIONALIDAD\"].fillna(round(covid1[\"NACIONALIDAD\"].mean(),1))\n",
    "covid1"
   ]
  },
  {
   "cell_type": "code",
   "execution_count": null,
   "metadata": {},
   "outputs": [],
   "source": [
    "#Sustituir valores nulos por un string en  concreto \n",
    "#Filtro por columnas\n",
    "covid1[\"PAIS_NACIONALIDAD\"] =covid1[\"PAIS_NACIONALIDAD\"].fillna(\"México\") \n",
    "covid1"
   ]
  },
  {
   "cell_type": "code",
   "execution_count": null,
   "metadata": {},
   "outputs": [],
   "source": [
    "#Sustituir valores nulos por valores no nulos hacia atrás backward fill\" (\"bfill\")\n",
    "#Filtro por columnas\n",
    "covid1[\"EDAD\"] =covid1[\"EDAD\"].fillna(method=\"bfill\") \n",
    "covid1"
   ]
  },
  {
   "cell_type": "code",
   "execution_count": null,
   "metadata": {},
   "outputs": [],
   "source": [
    "#Sustituir valores nulos por valores no nulos hacia atrás backward fill\" (\"bfill\")\n",
    "#Filtro por columnas\n",
    "covid1[\"MUNICIPIO_RES\"] =covid1[\"MUNICIPIO_RES\"].fillna(method=\"bfill\") \n",
    "covid1"
   ]
  },
  {
   "cell_type": "code",
   "execution_count": null,
   "metadata": {},
   "outputs": [],
   "source": [
    "#Sustituir valores nulos por valores no nulos hacia adelante  \"forward fill\" (\"ffill\")\n",
    "#Filtro por columnas\n",
    "covid1[\"SEXO\"] =covid1[\"SEXO\"].fillna(method=\"ffill\") \n",
    "covid1"
   ]
  },
  {
   "cell_type": "code",
   "execution_count": null,
   "metadata": {},
   "outputs": [],
   "source": [
    "#Sustituir valores nulos por valores no nulos hacia adelante  \"forward fill\" (\"ffill\")\n",
    "#Filtro por columnas\n",
    "covid1[\"ENTIDAD_UM\"] =covid1[\"ENTIDAD_UM\"].fillna(method=\"ffill\") \n",
    "covid1"
   ]
  },
  {
   "cell_type": "code",
   "execution_count": null,
   "metadata": {},
   "outputs": [],
   "source": [
    "#Sustituir valores nulos por valores no nulos hacia adelante  \"forward fill\" (\"ffill\")\n",
    "#Filtro por columnas\n",
    "covid1[\"EMBARAZO\"] =covid1[\"EMBARAZO\"].fillna(method=\"ffill\") \n",
    "covid1"
   ]
  },
  {
   "cell_type": "code",
   "execution_count": null,
   "metadata": {},
   "outputs": [],
   "source": [
    "#Corroboramos valores nulos\n",
    "valores_nulos=covid1.isnull().sum()\n",
    "valores_nulos"
   ]
  },
  {
   "cell_type": "code",
   "execution_count": null,
   "metadata": {},
   "outputs": [],
   "source": []
  },
  {
   "cell_type": "code",
   "execution_count": null,
   "metadata": {},
   "outputs": [],
   "source": []
  },
  {
   "cell_type": "code",
   "execution_count": null,
   "metadata": {},
   "outputs": [],
   "source": []
  }
 ],
 "metadata": {
  "kernelspec": {
   "display_name": "Python 3.10.6 64-bit",
   "language": "python",
   "name": "python3"
  },
  "language_info": {
   "codemirror_mode": {
    "name": "ipython",
    "version": 3
   },
   "file_extension": ".py",
   "mimetype": "text/x-python",
   "name": "python",
   "nbconvert_exporter": "python",
   "pygments_lexer": "ipython3",
   "version": "3.10.6"
  },
  "orig_nbformat": 4,
  "vscode": {
   "interpreter": {
    "hash": "3c7407a0676a81ad5d5c697734f94220fc40457a1c05cf718afd929391080bf5"
   }
  }
 },
 "nbformat": 4,
 "nbformat_minor": 2
}
