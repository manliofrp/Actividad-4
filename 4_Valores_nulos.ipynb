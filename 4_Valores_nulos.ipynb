{
 "cells": [
  {
   "cell_type": "code",
   "execution_count": 16,
   "metadata": {},
   "outputs": [],
   "source": [
    "#Importo librerias\n",
    "import pandas as pd\n",
    "import numpy as np"
   ]
  },
  {
   "cell_type": "code",
   "execution_count": null,
   "metadata": {},
   "outputs": [],
   "source": [
    "#Leo mi archivo.csv\n",
    "Alumnos = pd.read_csv(\"MiClaseAnalitica.csv\") #, index_col=0\n",
    "Alumnos"
   ]
  },
  {
   "cell_type": "code",
   "execution_count": null,
   "metadata": {},
   "outputs": [],
   "source": [
    "#Verifico el tipo de dato de mi elemento alumnos\n",
    "type(Alumnos)"
   ]
  },
  {
   "cell_type": "code",
   "execution_count": null,
   "metadata": {},
   "outputs": [],
   "source": [
    "#verificamos la ubicación de los elemenmtos nulos del dataframe\n",
    "Dataframe_nulos= Alumnos.isnull()\n",
    "Dataframe_nulos"
   ]
  },
  {
   "cell_type": "code",
   "execution_count": null,
   "metadata": {},
   "outputs": [],
   "source": [
    "#Obtenemos la cuenta de los elementos nulos del dataframe por COLUMNA\n",
    "Cuenta_Nulos= Alumnos.isnull().sum()\n",
    "Cuenta_Nulos"
   ]
  },
  {
   "cell_type": "code",
   "execution_count": null,
   "metadata": {},
   "outputs": [],
   "source": [
    "#Obtenemos la cuenta de los elementos nulos del dataframe por FILA\n",
    "Cuenta_Nulos= Alumnos.isnull().sum(axis=1)\n",
    "Cuenta_Nulos"
   ]
  },
  {
   "cell_type": "code",
   "execution_count": null,
   "metadata": {},
   "outputs": [],
   "source": [
    "#Obtenemos la cuenta de los elementos nulos del dataframe completo\n",
    "Cuenta_Total_Nulos= Alumnos.isnull().sum().sum()\n",
    "Cuenta_Total_Nulos\n"
   ]
  },
  {
   "cell_type": "code",
   "execution_count": 1,
   "metadata": {},
   "outputs": [
    {
     "ename": "NameError",
     "evalue": "name 'Alumnos' is not defined",
     "output_type": "error",
     "traceback": [
      "\u001b[1;31m---------------------------------------------------------------------------\u001b[0m",
      "\u001b[1;31mNameError\u001b[0m                                 Traceback (most recent call last)",
      "\u001b[1;32mc:\\Users\\alfre\\OneDrive\\Escritorio\\Analítica de Datos\\Repositorio PROYECTO 1\\proyecto1\\4_Valores_nulos.ipynb Celda 8\u001b[0m in \u001b[0;36m<cell line: 2>\u001b[1;34m()\u001b[0m\n\u001b[0;32m      <a href='vscode-notebook-cell:/c%3A/Users/alfre/OneDrive/Escritorio/Anal%C3%ADtica%20de%20Datos/Repositorio%20PROYECTO%201/proyecto1/4_Valores_nulos.ipynb#X10sZmlsZQ%3D%3D?line=0'>1</a>\u001b[0m \u001b[39m#Verificamos cuantos datos hay de cada valor\u001b[39;00m\n\u001b[1;32m----> <a href='vscode-notebook-cell:/c%3A/Users/alfre/OneDrive/Escritorio/Anal%C3%ADtica%20de%20Datos/Repositorio%20PROYECTO%201/proyecto1/4_Valores_nulos.ipynb#X10sZmlsZQ%3D%3D?line=1'>2</a>\u001b[0m frecuencia\u001b[39m=\u001b[39m Alumnos[\u001b[39m'\u001b[39m\u001b[39mactividad\u001b[39m\u001b[39m'\u001b[39m]\u001b[39m.\u001b[39mvalue_counts()\n\u001b[0;32m      <a href='vscode-notebook-cell:/c%3A/Users/alfre/OneDrive/Escritorio/Anal%C3%ADtica%20de%20Datos/Repositorio%20PROYECTO%201/proyecto1/4_Valores_nulos.ipynb#X10sZmlsZQ%3D%3D?line=2'>3</a>\u001b[0m frecuencia\n",
      "\u001b[1;31mNameError\u001b[0m: name 'Alumnos' is not defined"
     ]
    }
   ],
   "source": [
    "#Verificamos cuantos datos hay de cada valor\n",
    "frecuencia= Alumnos['actividad'].value_counts()\n",
    "frecuencia"
   ]
  },
  {
   "cell_type": "code",
   "execution_count": null,
   "metadata": {},
   "outputs": [],
   "source": [
    "#Verificamos valores nulos por columna\n",
    "nulos= Alumnos['actividad'].value_counts(dropna=False)\n",
    "nulos"
   ]
  },
  {
   "cell_type": "code",
   "execution_count": null,
   "metadata": {},
   "outputs": [],
   "source": [
    "#Eliminamos filas con nulos\n",
    "Alumnos.dropna()"
   ]
  },
  {
   "cell_type": "code",
   "execution_count": null,
   "metadata": {},
   "outputs": [],
   "source": [
    "#Eliminamos columnas con nulos\n",
    "Alumnos.dropna(1)"
   ]
  },
  {
   "cell_type": "code",
   "execution_count": null,
   "metadata": {},
   "outputs": [],
   "source": [
    "#Sustituir valores nulos por un valor numérico en  concreto \n",
    "#Filtro por columnas\n",
    "Actividad_total=Alumnos.iloc[ : , [6]]\n",
    "Actividad_total.fillna(4) "
   ]
  },
  {
   "cell_type": "code",
   "execution_count": null,
   "metadata": {},
   "outputs": [],
   "source": [
    "#Sustituir valores nulos por un string en  concreto \n",
    "#Filtro por columnas\n",
    "Actividad_total=Alumnos.iloc[ : , [6]]\n",
    "Actividad_total.fillna(\"8 de ago en 14:14\")  "
   ]
  },
  {
   "cell_type": "code",
   "execution_count": null,
   "metadata": {},
   "outputs": [],
   "source": [
    "#Sustituir valores nulos por valores no nulos hacia adelante  \"forward fill\" (\"ffill\")\n",
    "#Filtro por columnas\n",
    "Actividad_total=Alumnos.iloc[ : , [6]]\n",
    "Actividad_total.fillna(method=\"ffill\")"
   ]
  },
  {
   "cell_type": "code",
   "execution_count": null,
   "metadata": {},
   "outputs": [],
   "source": [
    "#Sustituir valores nulos por valores no nulos hacia atrás backward fill\" (\"bfill\")\n",
    "#Filtro por columnas\n",
    "Actividad_total=Alumnos.iloc[ : , [6]]\n",
    "Actividad_total.fillna(method=\"bfill\")\n",
    "\n",
    "###esta es una prueba de sincronización"
   ]
  }
 ],
 "metadata": {
  "kernelspec": {
   "display_name": "Python 3.10.6 64-bit",
   "language": "python",
   "name": "python3"
  },
  "language_info": {
   "codemirror_mode": {
    "name": "ipython",
    "version": 3
   },
   "file_extension": ".py",
   "mimetype": "text/x-python",
   "name": "python",
   "nbconvert_exporter": "python",
   "pygments_lexer": "ipython3",
   "version": "3.10.6"
  },
  "orig_nbformat": 4,
  "vscode": {
   "interpreter": {
    "hash": "3eb06009a151591584a8e64b076b6e8b9584003a8eff826d2bd74c5ffbf9e972"
   }
  }
 },
 "nbformat": 4,
 "nbformat_minor": 2
}
